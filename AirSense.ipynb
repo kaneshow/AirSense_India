{
  "nbformat": 4,
  "nbformat_minor": 0,
  "metadata": {
    "colab": {
      "provenance": [],
      "authorship_tag": "ABX9TyOzh08o3LupC7eMc6JtdvB3",
      "include_colab_link": true
    },
    "kernelspec": {
      "name": "python3",
      "display_name": "Python 3"
    },
    "language_info": {
      "name": "python"
    }
  },
  "cells": [
    {
      "cell_type": "markdown",
      "metadata": {
        "id": "view-in-github",
        "colab_type": "text"
      },
      "source": [
        "<a href=\"https://colab.research.google.com/github/kaneshow/AirSense_India/blob/main/AirSense.ipynb\" target=\"_parent\"><img src=\"https://colab.research.google.com/assets/colab-badge.svg\" alt=\"Open In Colab\"/></a>"
      ]
    },
    {
      "cell_type": "code",
      "execution_count": 2,
      "metadata": {
        "colab": {
          "base_uri": "https://localhost:8080/"
        },
        "id": "lLqefFlVigpE",
        "outputId": "481161c0-6661-4e70-9618-eeba79e16036"
      },
      "outputs": [
        {
          "output_type": "stream",
          "name": "stdout",
          "text": [
            "Dataset downloaded to: /kaggle/input/air-quality-data-in-india\n",
            "First few rows:\n",
            "         City        Date  PM2.5  PM10     NO    NO2    NOx  NH3     CO    SO2  \\\n",
            "0  Ahmedabad  2015-01-01    NaN   NaN   0.92  18.22  17.15  NaN   0.92  27.64   \n",
            "1  Ahmedabad  2015-01-02    NaN   NaN   0.97  15.69  16.46  NaN   0.97  24.55   \n",
            "2  Ahmedabad  2015-01-03    NaN   NaN  17.40  19.30  29.70  NaN  17.40  29.07   \n",
            "3  Ahmedabad  2015-01-04    NaN   NaN   1.70  18.48  17.97  NaN   1.70  18.59   \n",
            "4  Ahmedabad  2015-01-05    NaN   NaN  22.10  21.42  37.76  NaN  22.10  39.33   \n",
            "\n",
            "       O3  Benzene  Toluene  Xylene  AQI AQI_Bucket  \n",
            "0  133.36     0.00     0.02    0.00  NaN        NaN  \n",
            "1   34.06     3.68     5.50    3.77  NaN        NaN  \n",
            "2   30.70     6.80    16.40    2.25  NaN        NaN  \n",
            "3   36.08     4.43    10.14    1.00  NaN        NaN  \n",
            "4   39.31     7.01    18.89    2.78  NaN        NaN  \n",
            "\n",
            "Missing Values:\n",
            " City              0\n",
            "Date              0\n",
            "PM2.5          4598\n",
            "PM10          11140\n",
            "NO             3582\n",
            "NO2            3585\n",
            "NOx            4185\n",
            "NH3           10328\n",
            "CO             2059\n",
            "SO2            3854\n",
            "O3             4022\n",
            "Benzene        5623\n",
            "Toluene        8041\n",
            "Xylene        18109\n",
            "AQI            4681\n",
            "AQI_Bucket     4681\n",
            "dtype: int64\n",
            "\n",
            "Data Types:\n",
            " Date     datetime64[ns]\n",
            "PM2.5           float64\n",
            "PM10            float64\n",
            "NO2             float64\n",
            "CO              float64\n",
            "Ozone           float64\n",
            "AQI             float64\n",
            "dtype: object\n",
            "\n",
            "Negative Values Detected:\n",
            " Empty DataFrame\n",
            "Columns: [Date, PM2.5, PM10, NO2, CO, Ozone, AQI]\n",
            "Index: []\n",
            "\n",
            "PM2.5 Outliers:\n",
            "             Date   PM2.5        PM10    NO2     CO   Ozone         AQI\n",
            "31    2015-02-01  135.99  118.127103  42.08  43.48  102.70   98.732368\n",
            "32    2015-02-02  178.33  118.127103  35.31  54.56  107.38  110.589034\n",
            "33    2015-02-03  139.70  118.127103  28.40  30.61   73.60   95.409034\n",
            "44    2015-02-14  177.33  118.127103  47.58  37.49   36.47  114.345701\n",
            "50    2015-02-20  140.29  118.127103  36.14  33.84   40.98   98.185701\n",
            "...          ...     ...         ...    ...    ...     ...         ...\n",
            "28992 2019-01-10  135.46  227.110000  67.15   1.08  121.45  143.240000\n",
            "28996 2019-01-14  203.05  306.160000  80.39   1.71   83.48  196.533333\n",
            "29003 2019-01-21  143.69  283.170000  62.47   1.30   42.56  163.110000\n",
            "29289 2019-11-03  144.72  259.910000  47.03   1.13   55.81  150.553333\n",
            "29361 2020-01-14  177.20  326.400000  79.29   2.08   44.07  194.296667\n",
            "\n",
            "[2736 rows x 7 columns]\n"
          ]
        }
      ],
      "source": [
        "# Step 1: Import Required Libraries\n",
        "import pandas as pd\n",
        "import numpy as np\n",
        "import matplotlib.pyplot as plt\n",
        "import seaborn as sns\n",
        "import kagglehub\n",
        "\n",
        "# Step 2: Download Dataset from Kaggle\n",
        "dataset_path = kagglehub.dataset_download(\"rohanrao/air-quality-data-in-india\")\n",
        "print(\"Dataset downloaded to:\", dataset_path)\n",
        "\n",
        "# Step 3: Load the 'city_day.csv' File\n",
        "data = pd.read_csv(f\"{dataset_path}/city_day.csv\")\n",
        "print(\"First few rows:\\n\", data.head())\n",
        "\n",
        "# Step 4: Handle Missing Values\n",
        "print(\"\\nMissing Values:\\n\", data.isnull().sum())\n",
        "data.fillna(data.mean(numeric_only=True), inplace=True)\n",
        "\n",
        "# Step 5: Convert 'Date' Column to Datetime Format\n",
        "data['Date'] = pd.to_datetime(data['Date'])\n",
        "\n",
        "# Step 6: Select and Rename Relevant Columns\n",
        "data.rename(columns={'O3': 'Ozone'}, inplace=True)\n",
        "features = ['Date', 'PM2.5', 'PM10', 'NO2', 'CO', 'Ozone']\n",
        "data = data[features]\n",
        "\n",
        "# Step 7: Feature Engineering - Create AQI (Simple Average)\n",
        "data['AQI'] = (data['PM2.5'] + data['PM10'] + data['NO2']) / 3\n",
        "\n",
        "# Step 8: Data Integrity Checks\n",
        "print(\"\\nData Types:\\n\", data.dtypes)\n",
        "print(\"\\nNegative Values Detected:\\n\", data[data[['PM2.5', 'PM10', 'NO2', 'CO', 'Ozone']] < 0].dropna(how='all'))\n",
        "\n",
        "# Step 10: Outlier Detection using IQR (PM2.5)\n",
        "Q1 = data['PM2.5'].quantile(0.25)\n",
        "Q3 = data['PM2.5'].quantile(0.75)\n",
        "IQR = Q3 - Q1\n",
        "outliers = data[(data['PM2.5'] < (Q1 - 1.5 * IQR)) | (data['PM2.5'] > (Q3 + 1.5 * IQR))]\n",
        "print(\"\\nPM2.5 Outliers:\\n\", outliers)"
      ]
    }
  ]
}